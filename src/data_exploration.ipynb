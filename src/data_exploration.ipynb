{
 "cells": [
  {
   "cell_type": "code",
   "execution_count": 1,
   "metadata": {
    "collapsed": true
   },
   "outputs": [],
   "source": [
    "# Import libraries and set size of plots\n",
    "import pandas as pd\n",
    "from matplotlib import pyplot as plt\n",
    "\n",
    "from src.utils.analysis import get_tfidf, get_type_token_ratio, sunburst_ngrams\n",
    "from src.utils.helpers import merge_data\n",
    "from src.utils.reporting import report_stats_original_datasets, report_stats_overlap_datasets, report_stats_dataset\n",
    "\n",
    "plt.rcParams['figure.figsize'] = [20, 5]"
   ]
  },
  {
   "cell_type": "code",
   "execution_count": 2,
   "outputs": [
    {
     "name": "stdout",
     "output_type": "stream",
     "text": [
      "Utterances in DIALOCONAN: 16625\n",
      "Dialogues in DIALOCONAN: 3059\n",
      "HS-CN pairs in k-CONAN: 195\n",
      "\n",
      "HS in DIALOCONAN: 8314\n",
      "CN in DIALOCONAN: 8311\n",
      "Unique HS in DIALOCONAN: 4771\n",
      "Unique CN in DIALOCONAN: 6887\n",
      "\n",
      "Unique HS in k-CONAN: 104\n",
      "Unique CN in k-CONAN: 195\n",
      "Unique knowledge in k-CONAN: 156\n",
      "\n",
      "Average utterances per dialogue in DIALOCONAN: 16625 / 3059 = 5.434782608695652\n"
     ]
    }
   ],
   "source": [
    "# Read data\n",
    "dialogue_df = pd.read_csv(\"./../data/original_datasets/DIALOCONAN.csv\").sort_values(by=[\"dialogue_id\", \"turn_id\"])\n",
    "knowledge_df = pd.read_csv(\"./../data/original_datasets/multitarget_KN_grounded_CN.csv\")\n",
    "\n",
    "report_stats_original_datasets(dialogue_df, knowledge_df)"
   ],
   "metadata": {
    "collapsed": false
   }
  },
  {
   "cell_type": "code",
   "execution_count": 3,
   "outputs": [
    {
     "name": "stdout",
     "output_type": "stream",
     "text": [
      "Matched utterances in k-DIALOCONAN: 100\n",
      "\n",
      "Unique dialogues with knowledge matches: 98\n",
      "Unique utterances with knowledge matches: 36\n",
      "\n",
      "Unique HS with relevant knowledge: 36\n",
      "Unique CN: 34\n",
      "Unique knowledge sentences: 67\n",
      "Unique k-CN: 77\n",
      "\n"
     ]
    }
   ],
   "source": [
    "# Calculate overlap between datasets\n",
    "overlap_df = dialogue_df.merge(knowledge_df, how=\"inner\", left_on=\"text\", right_on=\"hate_speech\", sort=True)\n",
    "report_stats_overlap_datasets(overlap_df, dialogue_df)"
   ],
   "metadata": {
    "collapsed": false
   }
  },
  {
   "cell_type": "code",
   "execution_count": 1,
   "outputs": [
    {
     "ename": "NameError",
     "evalue": "name 'overlap_df' is not defined",
     "output_type": "error",
     "traceback": [
      "\u001B[0;31m---------------------------------------------------------------------------\u001B[0m",
      "\u001B[0;31mNameError\u001B[0m                                 Traceback (most recent call last)",
      "Cell \u001B[0;32mIn[1], line 2\u001B[0m\n\u001B[1;32m      1\u001B[0m \u001B[38;5;66;03m# See how many knowledge items there are per dialogue\u001B[39;00m\n\u001B[0;32m----> 2\u001B[0m per_dialogue_df \u001B[38;5;241m=\u001B[39m \u001B[43moverlap_df\u001B[49m\u001B[38;5;241m.\u001B[39mgroupby([\u001B[38;5;124m\"\u001B[39m\u001B[38;5;124mdialogue_id\u001B[39m\u001B[38;5;124m\"\u001B[39m])[[\u001B[38;5;124m\"\u001B[39m\u001B[38;5;124mknowledge_sentence\u001B[39m\u001B[38;5;124m\"\u001B[39m, \u001B[38;5;124m\"\u001B[39m\u001B[38;5;124mcounter_narrative\u001B[39m\u001B[38;5;124m\"\u001B[39m]]\u001B[38;5;241m.\u001B[39mnunique()\n\u001B[1;32m      4\u001B[0m \u001B[38;5;66;03m# Check if we have more knowledge sentences than counter-narratives\u001B[39;00m\n\u001B[1;32m      5\u001B[0m more_k \u001B[38;5;241m=\u001B[39m per_dialogue_df[per_dialogue_df[\u001B[38;5;124m\"\u001B[39m\u001B[38;5;124mknowledge_sentence\u001B[39m\u001B[38;5;124m\"\u001B[39m] \u001B[38;5;241m>\u001B[39m per_dialogue_df[\u001B[38;5;124m\"\u001B[39m\u001B[38;5;124mcounter_narrative\u001B[39m\u001B[38;5;124m\"\u001B[39m]]\n",
      "\u001B[0;31mNameError\u001B[0m: name 'overlap_df' is not defined"
     ]
    }
   ],
   "source": [
    "# See how many knowledge items there are per dialogue\n",
    "per_dialogue_df = overlap_df.groupby([\"dialogue_id\"])[[\"knowledge_sentence\", \"counter_narrative\"]].nunique()\n",
    "\n",
    "# Check if we have more knowledge sentences than counter-narratives\n",
    "more_k = per_dialogue_df[per_dialogue_df[\"knowledge_sentence\"] > per_dialogue_df[\"counter_narrative\"]]\n",
    "less_k = per_dialogue_df[per_dialogue_df[\"knowledge_sentence\"] < per_dialogue_df[\"counter_narrative\"]]\n",
    "equal_k = per_dialogue_df[per_dialogue_df[\"knowledge_sentence\"] == per_dialogue_df[\"counter_narrative\"]]\n",
    "\n",
    "print(f\"Comparing num of knoweldge items vs counter-narratives:\\n\"\n",
    "      f\"\\tmore knowledge:{len(more_k)}\\n\"\n",
    "      f\"\\tless knowledge: {len(less_k)}\\n\"\n",
    "      f\"\\tequal knowledge: {len(equal_k)}\")\n",
    "\n",
    "# Visualize distribution\n",
    "per_dialogue_df.sort_values(by=[\"knowledge_sentence\", \"counter_narrative\"], inplace=True)\n",
    "per_dialogue_df.plot.bar()\n",
    "plt.savefig(\"./../plots/dialogue_knowledge_distribution.png\")  #, bbox_inches=\"tight\")"
   ],
   "metadata": {
    "collapsed": false
   }
  },
  {
   "cell_type": "code",
   "execution_count": 5,
   "outputs": [
    {
     "name": "stdout",
     "output_type": "stream",
     "text": [
      "Average knowledge items per dialogue: 1.989795918367347\n",
      "Average knowledge based counter-narratives per dialogue: 2.2142857142857144\n"
     ]
    }
   ],
   "source": [
    "# Average knowledge and cn, per dialogue\n",
    "avg_k_sentences = per_dialogue_df.mean()\n",
    "print(f\"Average knowledge items per dialogue: {avg_k_sentences['knowledge_sentence']}\")\n",
    "print(f\"Average knowledge based counter-narratives per dialogue: {avg_k_sentences['counter_narrative']}\")"
   ],
   "metadata": {
    "collapsed": false
   }
  },
  {
   "cell_type": "code",
   "execution_count": 6,
   "outputs": [
    {
     "name": "stdout",
     "output_type": "stream",
     "text": [
      "Wrote dataset to file: ./../data/KDIALOCONAN_gold.json\n",
      "Dialogues in k-DIALOCONAN: 3059\n",
      "Utterances in k-DIALOCONAN: 16629\n",
      "Utterances (HS) with knowledge in k-DIALOCONAN: 100\n",
      "\n",
      "HS in k-DIALOCONAN: 8316\n",
      "CN in k-DIALOCONAN: 8313\n",
      "Knowledge items in k-DIALOCONAN: 195\n",
      "k-CN in k-DIALOCONAN: 217\n",
      "\n",
      "Unique HS in k-DIALOCONAN: 4770\n",
      "Unique CN in k-DIALOCONAN: 6885\n",
      "Unique knowledge items in k-DIALOCONAN: 67\n",
      "Unique k-CN in k-DIALOCONAN: 77\n",
      "\n",
      "Average utterances per dialogue k-DIALOCONAN: 5.43609022556391\n",
      "Average utterances with knowledge per dialogue k-DIALOCONAN: 0.032690421706440015\n",
      "Average knowledge items per dialogue k-DIALOCONAN: 0.06374632232755803\n",
      "Average k-CN per dialogue k-DIALOCONAN: 0.07093821510297482\n",
      "\n",
      "Average knowledge items per utterance in k-DIALOCONAN: 0.011726501894281075\n",
      "Average k-CN per utterance in k-DIALOCONAN: 0.01304949185158458\n",
      "\n",
      "Average knowledge items per HS in k-DIALOCONAN: 0.023448773448773448\n",
      "Average k-CN per HS in k-DIALOCONAN: 0.026094276094276093\n",
      "\n"
     ]
    }
   ],
   "source": [
    "# Create dataset as in DSTC: {dialogue_id}\n",
    "logs = merge_data(dialogue_df, knowledge_df, format='DSTC', save_as_json=True)\n",
    "hs, cn, k, kcn = report_stats_dataset(logs, 'k-DIALOCONAN')"
   ],
   "metadata": {
    "collapsed": false
   }
  },
  {
   "cell_type": "code",
   "execution_count": 7,
   "outputs": [
    {
     "name": "stdout",
     "output_type": "stream",
     "text": [
      "Wrote dataset to file: ./../data/KDIALOCONAN_grounded_gold.json\n",
      "Dialogues in k-DIALOCONAN (filtered): 98\n",
      "Utterances in k-DIALOCONAN (filtered): 546\n",
      "Utterances (HS) with knowledge in k-DIALOCONAN (filtered): 100\n",
      "\n",
      "HS in k-DIALOCONAN (filtered): 273\n",
      "CN in k-DIALOCONAN (filtered): 273\n",
      "Knowledge items in k-DIALOCONAN (filtered): 195\n",
      "k-CN in k-DIALOCONAN (filtered): 217\n",
      "\n",
      "Unique HS in k-DIALOCONAN (filtered): 156\n",
      "Unique CN in k-DIALOCONAN (filtered): 257\n",
      "Unique knowledge items in k-DIALOCONAN (filtered): 67\n",
      "Unique k-CN in k-DIALOCONAN (filtered): 77\n",
      "\n",
      "Average utterances per dialogue k-DIALOCONAN (filtered): 5.571428571428571\n",
      "Average utterances with knowledge per dialogue k-DIALOCONAN (filtered): 1.0204081632653061\n",
      "Average knowledge items per dialogue k-DIALOCONAN (filtered): 1.989795918367347\n",
      "Average k-CN per dialogue k-DIALOCONAN (filtered): 2.2142857142857144\n",
      "\n",
      "Average knowledge items per utterance in k-DIALOCONAN (filtered): 0.35714285714285715\n",
      "Average k-CN per utterance in k-DIALOCONAN (filtered): 0.3974358974358974\n",
      "\n",
      "Average knowledge items per HS in k-DIALOCONAN (filtered): 0.7142857142857143\n",
      "Average k-CN per HS in k-DIALOCONAN (filtered): 0.7948717948717948\n",
      "\n"
     ]
    }
   ],
   "source": [
    "logs_grounded = merge_data(dialogue_df, knowledge_df, format='DSTC_filtered', save_as_json=True)\n",
    "hs_g, cn_g, k_g, kcn_g = report_stats_dataset(logs_grounded, 'k-DIALOCONAN (filtered)')"
   ],
   "metadata": {
    "collapsed": false
   }
  },
  {
   "cell_type": "code",
   "execution_count": 8,
   "outputs": [
    {
     "data": {
      "text/plain": "         HS        CN            K      KCN\n0  children       don      islamic      don\n1       don      jews         jews     gays\n2    europe      like       muslim     jews\n3      gays   muslims      muslims     like\n4      hate    people  orientation  muslims\n5      jews  religion       rights        s\n6   muslims         s            s   sexual\n7         s   society         said  society\n8         t         t       sexual        t\n9      want     world        women    world",
      "text/html": "<div>\n<style scoped>\n    .dataframe tbody tr th:only-of-type {\n        vertical-align: middle;\n    }\n\n    .dataframe tbody tr th {\n        vertical-align: top;\n    }\n\n    .dataframe thead th {\n        text-align: right;\n    }\n</style>\n<table border=\"1\" class=\"dataframe\">\n  <thead>\n    <tr style=\"text-align: right;\">\n      <th></th>\n      <th>HS</th>\n      <th>CN</th>\n      <th>K</th>\n      <th>KCN</th>\n    </tr>\n  </thead>\n  <tbody>\n    <tr>\n      <th>0</th>\n      <td>children</td>\n      <td>don</td>\n      <td>islamic</td>\n      <td>don</td>\n    </tr>\n    <tr>\n      <th>1</th>\n      <td>don</td>\n      <td>jews</td>\n      <td>jews</td>\n      <td>gays</td>\n    </tr>\n    <tr>\n      <th>2</th>\n      <td>europe</td>\n      <td>like</td>\n      <td>muslim</td>\n      <td>jews</td>\n    </tr>\n    <tr>\n      <th>3</th>\n      <td>gays</td>\n      <td>muslims</td>\n      <td>muslims</td>\n      <td>like</td>\n    </tr>\n    <tr>\n      <th>4</th>\n      <td>hate</td>\n      <td>people</td>\n      <td>orientation</td>\n      <td>muslims</td>\n    </tr>\n    <tr>\n      <th>5</th>\n      <td>jews</td>\n      <td>religion</td>\n      <td>rights</td>\n      <td>s</td>\n    </tr>\n    <tr>\n      <th>6</th>\n      <td>muslims</td>\n      <td>s</td>\n      <td>s</td>\n      <td>sexual</td>\n    </tr>\n    <tr>\n      <th>7</th>\n      <td>s</td>\n      <td>society</td>\n      <td>said</td>\n      <td>society</td>\n    </tr>\n    <tr>\n      <th>8</th>\n      <td>t</td>\n      <td>t</td>\n      <td>sexual</td>\n      <td>t</td>\n    </tr>\n    <tr>\n      <th>9</th>\n      <td>want</td>\n      <td>world</td>\n      <td>women</td>\n      <td>world</td>\n    </tr>\n  </tbody>\n</table>\n</div>"
     },
     "execution_count": 8,
     "metadata": {},
     "output_type": "execute_result"
    }
   ],
   "source": [
    "# Get tfidf features\n",
    "corpus_columns = zip([hs_g, cn_g, k_g, kcn_g], ['HS', 'CN', 'K', 'KCN'])\n",
    "tfidf_df = get_tfidf(corpus_columns)\n",
    "tfidf_df"
   ],
   "metadata": {
    "collapsed": false
   }
  },
  {
   "cell_type": "code",
   "execution_count": 9,
   "outputs": [
    {
     "data": {
      "text/plain": "          HS         CN         K       KCN\n0  16.026073  17.268206  9.338456  11.50358",
      "text/html": "<div>\n<style scoped>\n    .dataframe tbody tr th:only-of-type {\n        vertical-align: middle;\n    }\n\n    .dataframe tbody tr th {\n        vertical-align: top;\n    }\n\n    .dataframe thead th {\n        text-align: right;\n    }\n</style>\n<table border=\"1\" class=\"dataframe\">\n  <thead>\n    <tr style=\"text-align: right;\">\n      <th></th>\n      <th>HS</th>\n      <th>CN</th>\n      <th>K</th>\n      <th>KCN</th>\n    </tr>\n  </thead>\n  <tbody>\n    <tr>\n      <th>0</th>\n      <td>16.026073</td>\n      <td>17.268206</td>\n      <td>9.338456</td>\n      <td>11.50358</td>\n    </tr>\n  </tbody>\n</table>\n</div>"
     },
     "execution_count": 9,
     "metadata": {},
     "output_type": "execute_result"
    }
   ],
   "source": [
    "# Get type token ratio\n",
    "corpus_columns = zip([hs_g, cn_g, k_g, kcn_g], ['HS', 'CN', 'K', 'KCN'])\n",
    "type_token_df = get_type_token_ratio(corpus_columns)\n",
    "type_token_df"
   ],
   "metadata": {
    "collapsed": false
   }
  },
  {
   "cell_type": "code",
   "execution_count": 10,
   "outputs": [
    {
     "name": "stdout",
     "output_type": "stream",
     "text": [
      "Wrote plot to file: ./../plots/sunburst_distribution_HS.html\n",
      "Wrote plot to file: ./../plots/sunburst_distribution_CN.html\n",
      "Wrote plot to file: ./../plots/sunburst_distribution_K.html\n",
      "Wrote plot to file: ./../plots/sunburst_distribution_KCN.html\n"
     ]
    }
   ],
   "source": [
    "# Get most frequent trigrams\n",
    "corpus_columns = zip([hs_g, cn_g, k_g, kcn_g], ['HS', 'CN', 'K', 'KCN'])\n",
    "sunburst_ngrams(corpus_columns)"
   ],
   "metadata": {
    "collapsed": false
   }
  }
 ],
 "metadata": {
  "kernelspec": {
   "display_name": "Python 3",
   "language": "python",
   "name": "python3"
  },
  "language_info": {
   "codemirror_mode": {
    "name": "ipython",
    "version": 2
   },
   "file_extension": ".py",
   "mimetype": "text/x-python",
   "name": "python",
   "nbconvert_exporter": "python",
   "pygments_lexer": "ipython2",
   "version": "2.7.6"
  }
 },
 "nbformat": 4,
 "nbformat_minor": 0
}
